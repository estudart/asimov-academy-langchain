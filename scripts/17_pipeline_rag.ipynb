{
 "cells": [
  {
   "attachments": {},
   "cell_type": "markdown",
   "id": "13d7fc40",
   "metadata": {},
   "source": [
    "# Conversando com os dados"
   ]
  },
  {
   "cell_type": "code",
   "execution_count": 1,
   "id": "319493c5",
   "metadata": {},
   "outputs": [],
   "source": [
    "# __import__('pysqlite3')\n",
    "# import sys\n",
    "# sys.modules['sqlite3'] = sys.modules.pop('pysqlite3')\n",
    "\n",
    "from langchain_openai import OpenAIEmbeddings\n",
    "from langchain_community.vectorstores.faiss import FAISS\n",
    "\n",
    "from langchain_community.document_loaders.pdf import PyPDFLoader\n",
    "from langchain_text_splitters import RecursiveCharacterTextSplitter"
   ]
  },
  {
   "cell_type": "code",
   "execution_count": 2,
   "id": "b1cd506c",
   "metadata": {},
   "outputs": [],
   "source": [
    "caminhos = [\n",
    "    \"arquivos/Explorando a API da OpenAI.pdf\",\n",
    "    ]\n",
    "\n",
    "paginas = []\n",
    "for caminho in caminhos:\n",
    "    loader = PyPDFLoader(caminho)\n",
    "    paginas.extend(loader.load())\n",
    "\n",
    "recur_split = RecursiveCharacterTextSplitter(\n",
    "    chunk_size=1000,\n",
    "    chunk_overlap=100,\n",
    "    separators=[\"\\n\\n\", \"\\n\", \".\", \" \", \"\"]\n",
    ")\n",
    "\n",
    "documents = recur_split.split_documents(paginas)\n",
    "\n",
    "for i, doc in enumerate(documents):\n",
    "    doc.metadata['source'] = doc.metadata['source'].replace('arquivos/', '')\n",
    "    doc.metadata['doc_id'] = i"
   ]
  },
  {
   "cell_type": "code",
   "execution_count": 3,
   "id": "9d9fb7be",
   "metadata": {},
   "outputs": [],
   "source": [
    "vectorstore = FAISS.from_documents(\n",
    "    documents=documents,\n",
    "    embedding=OpenAIEmbeddings()\n",
    ")"
   ]
  },
  {
   "attachments": {},
   "cell_type": "markdown",
   "id": "892e580f",
   "metadata": {},
   "source": [
    "## Criando estrutura de conversa"
   ]
  },
  {
   "cell_type": "code",
   "execution_count": 4,
   "id": "887ad219",
   "metadata": {},
   "outputs": [],
   "source": [
    "from langchain_core.prompts import ChatPromptTemplate\n",
    "\n",
    "prompt = ChatPromptTemplate.from_template(\n",
    "    '''Responda as perguntas se baseando no contexto fornecido.\n",
    "    \n",
    "    contexto: {contexto}\n",
    "    \n",
    "    pergunta: {pergunta}''')"
   ]
  },
  {
   "cell_type": "code",
   "execution_count": 5,
   "id": "2bf8935e",
   "metadata": {},
   "outputs": [],
   "source": [
    "from langchain_core.runnables import RunnableParallel, RunnablePassthrough\n",
    "\n",
    "\n",
    "retriever = vectorstore.as_retriever(search_type='mmr', search_kwargs={'k': 5, 'fetch_k': 25})\n",
    "setup = RunnableParallel({\n",
    "    'pergunta': RunnablePassthrough(),\n",
    "    'contexto': retriever\n",
    "})"
   ]
  },
  {
   "cell_type": "code",
   "execution_count": 6,
   "id": "37354279",
   "metadata": {},
   "outputs": [
    {
     "data": {
      "text/plain": [
       "{'pergunta': 'O que é a OpenAI?',\n",
       " 'contexto': [Document(id='a3810ac7-b873-4b64-aea9-b25d3ab6b50b', metadata={'source': 'Explorando a API da OpenAI.pdf', 'page': 9, 'doc_id': 19}, page_content='Explorando a API da OpenAI\\nGuias\\nTambém está disponível diversos guias de boas práticas recomendadas ao utilizar os modelos da\\nOpenAI.\\nAsimov Academy 9'),\n",
       "  Document(id='fda315f2-e4c5-48c5-bf6b-983e3b3f231f', metadata={'source': 'Explorando a API da OpenAI.pdf', 'page': 6, 'doc_id': 15}, page_content='Explorando a API da OpenAI\\nA OpenAI\\nNosso objetivo é explorar a API da OpenAI, a maior desenvolvedora de ferramentas de inteligência\\nartificial do mundo na atualidade. O modelo ChatGPT é apenas um dos vários modelos criados pela\\nempresa nos últimos anos. A seguir, apresentamos alguns dos principais modelos e suas funções:\\n• GPT-4: Trata-se de um modelo de linguagem de grande escala (LLM) multimodal, que aceita\\nentradas de texto ou imagem e produz texto. Ele é capaz de resolver problemas complexos com\\nmaior precisão do que os modelos anteriores da OpenAI.\\n• DALL-E: Este sistema de IA pode criar imagens e arte realistas a partir de descrições textuais. O\\nDALL·E 3, em particular, suporta a capacidade de gerar novas imagens em tamanhos específicos,\\ncom base em sugestões fornecidas.\\n• TTS: É um modelo de IA que transforma texto em fala com uma sonoridade natural.\\n• Whisper: O Whisper é um modelo de reconhecimento de fala de uso geral, treinado em um'),\n",
       "  Document(id='3065c197-94eb-452e-ae38-a8fd9815a95e', metadata={'source': 'Explorando a API da OpenAI.pdf', 'page': 4, 'doc_id': 11}, page_content='gerar imagens e transcrever áudios. E o mais bacana é que vamos fazer tudo isso de um jeito bem\\nprático, escrevendo nosso próprio código e vendo a mágica acontecer na frente dos nossos olhos.\\nPython é a ferramenta perfeita para isso. Ela é simples, direta e nos permite focar no que realmente\\nimporta: criar aplicações incríveis. E quando você combina essa simplicidade com o poder da IA, as\\npossibilidades são praticamente infinitas.\\nEntão, se vocês estão tão empolgados quanto eu para começar a explorar o que a IA pode fazer e como\\npodemos usá-la para expandir nossas habilidades de programação, vocês estão no lugar certo. Vamos\\naprender, nos impressionar e, quem sabe, até criar algo que nunca imaginamos ser possível.\\nSejam bem-vindos! Vamos nessa juntos e ver até onde podemos chegar com a API da OpenAI e nosso\\nquerido Python.\\nAsimov Academy 4'),\n",
       "  Document(id='032a87c8-870d-403c-a802-3f4fd4d90d71', metadata={'source': 'Explorando a API da OpenAI.pdf', 'page': 43, 'doc_id': 76}, page_content='Explorando a API da OpenAI\\n11. Fine-Tuning - otimizando um modelo\\nO que é Fine-Tuning?\\nO Fine-Tuning em inteligência artificial representa uma técnica de aprendizado por transferência. Essa\\nabordagem consiste em tomar um modelo pré-treinado, o qual foi desenvolvido com base em um\\nvasto conjunto de dados para uma tarefa ampla – a exemplo dos modelos GPT – e realizar ajustes\\nsutis em seus parâmetros internos. O propósito é aprimorar o desempenho do modelo para uma nova\\ntarefa correlata, evitando a necessidade de iniciar o processo de treinamento desde o início.\\nO Fine-Tuning aprimora o desempenho do promptfew-shot ao treinar o modelo com um número de\\nexemplos significativamente maior do que aquele que pode ser acomodado no prompt. Isso possibilita\\na obtenção de resultados superiores em uma ampla gama de tarefas. Após a otimização de um modelo\\ncom Fine-Tuning, torna-se desnecessário fornecer uma quantidade extensa de exemplos no prompt.'),\n",
       "  Document(id='95597ce8-55cc-4187-bf66-e504f08263cb', metadata={'source': 'Explorando a API da OpenAI.pdf', 'page': 5, 'doc_id': 12}, page_content='Explorando a API da OpenAI\\n02. Explorando a documentação da API\\nAntes de iniciarmos nosso curso, é crucial compreender a estrutura do mesmo e saber onde encontrar\\ninformações em caso de dúvidas ou problemas. Para isso, vamos explorar o site da OpenAI e entender\\na organização da documentação. Dessa forma, você estará equipado para buscar informações de\\nmaneira autônoma, preenchendo quaisquer lacunas que possam surgir.\\nNo entanto, antes de mergulharmos nesse processo, considero importante definirmos o que é uma\\nAPI.\\nO que é uma API?\\nUma API, sigla para Interface de Programação de Aplicações (em inglês, “Application Program-\\nming Interface”), consiste em um conjunto de regras e definições projetadas para permitir a\\ncomunicação entre softwares distintos. Ela atua como um intermediário, estabelecendo como\\nos desenvolvedores podem solicitar informações ou dados de um programa, sem a necessidade\\nde compreender os detalhes internos de como esses serviços são implementados.')]}"
      ]
     },
     "execution_count": 6,
     "metadata": {},
     "output_type": "execute_result"
    }
   ],
   "source": [
    "input = setup.invoke('O que é a OpenAI?')\n",
    "input"
   ]
  },
  {
   "cell_type": "code",
   "execution_count": 7,
   "id": "fbf473dd",
   "metadata": {},
   "outputs": [],
   "source": [
    "def join_documents(input):\n",
    "    input['contexto'] = '\\n\\n'.join([c.page_content for c in input['contexto']])\n",
    "    return input\n",
    "\n",
    "setup = RunnableParallel({\n",
    "    'pergunta': RunnablePassthrough(),\n",
    "    'contexto': retriever\n",
    "}) | join_documents"
   ]
  },
  {
   "cell_type": "code",
   "execution_count": 8,
   "id": "29ef5adf",
   "metadata": {},
   "outputs": [
    {
     "name": "stdout",
     "output_type": "stream",
     "text": [
      "Explorando a API da OpenAI\n",
      "Guias\n",
      "Também está disponível diversos guias de boas práticas recomendadas ao utilizar os modelos da\n",
      "OpenAI.\n",
      "Asimov Academy 9\n",
      "\n",
      "Explorando a API da OpenAI\n",
      "A OpenAI\n",
      "Nosso objetivo é explorar a API da OpenAI, a maior desenvolvedora de ferramentas de inteligência\n",
      "artificial do mundo na atualidade. O modelo ChatGPT é apenas um dos vários modelos criados pela\n",
      "empresa nos últimos anos. A seguir, apresentamos alguns dos principais modelos e suas funções:\n",
      "• GPT-4: Trata-se de um modelo de linguagem de grande escala (LLM) multimodal, que aceita\n",
      "entradas de texto ou imagem e produz texto. Ele é capaz de resolver problemas complexos com\n",
      "maior precisão do que os modelos anteriores da OpenAI.\n",
      "• DALL-E: Este sistema de IA pode criar imagens e arte realistas a partir de descrições textuais. O\n",
      "DALL·E 3, em particular, suporta a capacidade de gerar novas imagens em tamanhos específicos,\n",
      "com base em sugestões fornecidas.\n",
      "• TTS: É um modelo de IA que transforma texto em fala com uma sonoridade natural.\n",
      "• Whisper: O Whisper é um modelo de reconhecimento de fala de uso geral, treinado em um\n",
      "\n",
      "gerar imagens e transcrever áudios. E o mais bacana é que vamos fazer tudo isso de um jeito bem\n",
      "prático, escrevendo nosso próprio código e vendo a mágica acontecer na frente dos nossos olhos.\n",
      "Python é a ferramenta perfeita para isso. Ela é simples, direta e nos permite focar no que realmente\n",
      "importa: criar aplicações incríveis. E quando você combina essa simplicidade com o poder da IA, as\n",
      "possibilidades são praticamente infinitas.\n",
      "Então, se vocês estão tão empolgados quanto eu para começar a explorar o que a IA pode fazer e como\n",
      "podemos usá-la para expandir nossas habilidades de programação, vocês estão no lugar certo. Vamos\n",
      "aprender, nos impressionar e, quem sabe, até criar algo que nunca imaginamos ser possível.\n",
      "Sejam bem-vindos! Vamos nessa juntos e ver até onde podemos chegar com a API da OpenAI e nosso\n",
      "querido Python.\n",
      "Asimov Academy 4\n",
      "\n",
      "Explorando a API da OpenAI\n",
      "11. Fine-Tuning - otimizando um modelo\n",
      "O que é Fine-Tuning?\n",
      "O Fine-Tuning em inteligência artificial representa uma técnica de aprendizado por transferência. Essa\n",
      "abordagem consiste em tomar um modelo pré-treinado, o qual foi desenvolvido com base em um\n",
      "vasto conjunto de dados para uma tarefa ampla – a exemplo dos modelos GPT – e realizar ajustes\n",
      "sutis em seus parâmetros internos. O propósito é aprimorar o desempenho do modelo para uma nova\n",
      "tarefa correlata, evitando a necessidade de iniciar o processo de treinamento desde o início.\n",
      "O Fine-Tuning aprimora o desempenho do promptfew-shot ao treinar o modelo com um número de\n",
      "exemplos significativamente maior do que aquele que pode ser acomodado no prompt. Isso possibilita\n",
      "a obtenção de resultados superiores em uma ampla gama de tarefas. Após a otimização de um modelo\n",
      "com Fine-Tuning, torna-se desnecessário fornecer uma quantidade extensa de exemplos no prompt.\n",
      "\n",
      "Explorando a API da OpenAI\n",
      "02. Explorando a documentação da API\n",
      "Antes de iniciarmos nosso curso, é crucial compreender a estrutura do mesmo e saber onde encontrar\n",
      "informações em caso de dúvidas ou problemas. Para isso, vamos explorar o site da OpenAI e entender\n",
      "a organização da documentação. Dessa forma, você estará equipado para buscar informações de\n",
      "maneira autônoma, preenchendo quaisquer lacunas que possam surgir.\n",
      "No entanto, antes de mergulharmos nesse processo, considero importante definirmos o que é uma\n",
      "API.\n",
      "O que é uma API?\n",
      "Uma API, sigla para Interface de Programação de Aplicações (em inglês, “Application Program-\n",
      "ming Interface”), consiste em um conjunto de regras e definições projetadas para permitir a\n",
      "comunicação entre softwares distintos. Ela atua como um intermediário, estabelecendo como\n",
      "os desenvolvedores podem solicitar informações ou dados de um programa, sem a necessidade\n",
      "de compreender os detalhes internos de como esses serviços são implementados.\n"
     ]
    }
   ],
   "source": [
    "input = setup.invoke('O que é a OpenAI?')\n",
    "print(input['contexto'])"
   ]
  },
  {
   "cell_type": "code",
   "execution_count": 9,
   "id": "6913f724",
   "metadata": {},
   "outputs": [
    {
     "data": {
      "text/plain": [
       "AIMessage(content='A OpenAI é a maior desenvolvedora de ferramentas de inteligência artificial do mundo na atualidade, que cria diversos modelos de IA, como o GPT-4, DALL-E, TTS e Whisper.', additional_kwargs={'refusal': None}, response_metadata={'token_usage': {'completion_tokens': 47, 'prompt_tokens': 1090, 'total_tokens': 1137, 'completion_tokens_details': {'accepted_prediction_tokens': 0, 'audio_tokens': 0, 'reasoning_tokens': 0, 'rejected_prediction_tokens': 0}, 'prompt_tokens_details': {'audio_tokens': 0, 'cached_tokens': 0}}, 'model_name': 'gpt-3.5-turbo-0125', 'system_fingerprint': None, 'finish_reason': 'stop', 'logprobs': None}, id='run-9b0125b6-e600-43bf-990c-6277d69128cc-0', usage_metadata={'input_tokens': 1090, 'output_tokens': 47, 'total_tokens': 1137, 'input_token_details': {'audio': 0, 'cache_read': 0}, 'output_token_details': {'audio': 0, 'reasoning': 0}})"
      ]
     },
     "execution_count": 9,
     "metadata": {},
     "output_type": "execute_result"
    }
   ],
   "source": [
    "from langchain_openai import ChatOpenAI\n",
    "\n",
    "chain = setup | prompt | ChatOpenAI()\n",
    "chain.invoke('O que é a OpenAI?')"
   ]
  },
  {
   "cell_type": "markdown",
   "id": "af5ebd85",
   "metadata": {},
   "source": [
    "### Juntando tudo"
   ]
  },
  {
   "cell_type": "code",
   "execution_count": 10,
   "id": "0986d65e",
   "metadata": {},
   "outputs": [
    {
     "data": {
      "text/plain": [
       "AIMessage(content='A OpenAI é a maior desenvolvedora de ferramentas de inteligência artificial do mundo na atualidade. Ela cria diversos modelos de IA, como o GPT-4, DALL-E, TTS, e Whisper, que possuem diferentes funções, como produção de texto, criação de imagens a partir de descrições textuais, transformação de texto em fala, reconhecimento de fala, entre outros.', additional_kwargs={'refusal': None}, response_metadata={'token_usage': {'completion_tokens': 93, 'prompt_tokens': 1090, 'total_tokens': 1183, 'completion_tokens_details': {'accepted_prediction_tokens': 0, 'audio_tokens': 0, 'reasoning_tokens': 0, 'rejected_prediction_tokens': 0}, 'prompt_tokens_details': {'audio_tokens': 0, 'cached_tokens': 1024}}, 'model_name': 'gpt-3.5-turbo-0125', 'system_fingerprint': None, 'finish_reason': 'stop', 'logprobs': None}, id='run-12b57f8c-a24b-4d55-9171-5f517a6f79fa-0', usage_metadata={'input_tokens': 1090, 'output_tokens': 93, 'total_tokens': 1183, 'input_token_details': {'audio': 0, 'cache_read': 1024}, 'output_token_details': {'audio': 0, 'reasoning': 0}})"
      ]
     },
     "execution_count": 10,
     "metadata": {},
     "output_type": "execute_result"
    }
   ],
   "source": [
    "from langchain_core.prompts import ChatPromptTemplate\n",
    "from langchain_openai import ChatOpenAI\n",
    "from langchain_core.runnables import RunnableParallel, RunnablePassthrough\n",
    "\n",
    "prompt = ChatPromptTemplate.from_template(\n",
    "    '''Responda as perguntas se baseando no contexto fornecido.\n",
    "    \n",
    "    contexto: {contexto}\n",
    "    \n",
    "    pergunta: {pergunta}''')\n",
    "\n",
    "retriever = vectorstore.as_retriever(search_type='mmr', search_kwargs={'k': 5, 'fetch_k': 25})\n",
    "\n",
    "def join_documents(input):\n",
    "    input['contexto'] = '\\n\\n'.join([c.page_content for c in input['contexto']])\n",
    "    return input\n",
    "\n",
    "setup = RunnableParallel({\n",
    "    'pergunta': RunnablePassthrough(),\n",
    "    'contexto': retriever\n",
    "}) | join_documents\n",
    "\n",
    "chain = setup | prompt | ChatOpenAI()\n",
    "chain.invoke('O que é a OpenAI?')"
   ]
  },
  {
   "cell_type": "code",
   "execution_count": null,
   "id": "27952537",
   "metadata": {},
   "outputs": [],
   "source": []
  }
 ],
 "metadata": {
  "kernelspec": {
   "display_name": ".venv",
   "language": "python",
   "name": "python3"
  },
  "language_info": {
   "codemirror_mode": {
    "name": "ipython",
    "version": 3
   },
   "file_extension": ".py",
   "mimetype": "text/x-python",
   "name": "python",
   "nbconvert_exporter": "python",
   "pygments_lexer": "ipython3",
   "version": "3.13.0"
  }
 },
 "nbformat": 4,
 "nbformat_minor": 5
}
