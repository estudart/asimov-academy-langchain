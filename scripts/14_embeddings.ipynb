{
 "cells": [
  {
   "attachments": {},
   "cell_type": "markdown",
   "id": "13d7fc40",
   "metadata": {},
   "source": [
    "# Embeddings"
   ]
  },
  {
   "attachments": {},
   "cell_type": "markdown",
   "id": "40fddf28",
   "metadata": {},
   "source": [
    "Os Embeddings criam uma representação vetorial de um pedaço de texto. Isso é útil porque significa que podemos pensar sobre o texto no espaço vetorial e fazer coisas como busca semântica, onde procuramos por pedaços de texto que são mais semelhantes no espaço vetorial, ou seja, que estão a uma distância menor.\n",
    "\n",
    "A classe Embeddings do Langchain é uma classe projetada para interagir com modelos de embedding de texto. Existem muitos modelos diferentes (OpenAI, Cohere, Hugging Face, etc) - esta classe é projetada para fornecer uma interface padrão para todos eles.\n",
    "\n",
    "A classe de Embeddings base em LangChain fornece dois métodos: um para realizar o emedding de documentos e outro para embedding de uma chamada. O primeiro recebe como entrada vários textos, enquanto o último recebe um único texto."
   ]
  },
  {
   "attachments": {},
   "cell_type": "markdown",
   "id": "1ecb96f8",
   "metadata": {},
   "source": [
    "https://python.langchain.com/docs/integrations/text_embedding/"
   ]
  },
  {
   "attachments": {},
   "cell_type": "markdown",
   "id": "b05996bd",
   "metadata": {},
   "source": [
    "https://platform.openai.com/docs/guides/embeddings"
   ]
  },
  {
   "attachments": {},
   "cell_type": "markdown",
   "id": "75b6dcb5",
   "metadata": {},
   "source": [
    "## Embeddings com OpenAI"
   ]
  },
  {
   "cell_type": "code",
   "execution_count": 1,
   "id": "80c871d0",
   "metadata": {},
   "outputs": [],
   "source": [
    "from langchain_openai import OpenAIEmbeddings\n",
    "\n",
    "embedding_model = OpenAIEmbeddings(model='text-embedding-ada-002')"
   ]
  },
  {
   "attachments": {},
   "cell_type": "markdown",
   "id": "06928c56",
   "metadata": {},
   "source": [
    "### Embedding documents"
   ]
  },
  {
   "cell_type": "code",
   "execution_count": 2,
   "id": "6bafa8a7",
   "metadata": {},
   "outputs": [],
   "source": [
    "embedings = embedding_model.embed_documents(\n",
    "    [\n",
    "        'Eu gosto de cochorros',\n",
    "        'Eu gosto de animais',\n",
    "        'O tempo está ruim lá fora'\n",
    "    ]\n",
    ")"
   ]
  },
  {
   "cell_type": "code",
   "execution_count": 3,
   "id": "664d424d",
   "metadata": {},
   "outputs": [
    {
     "data": {
      "text/plain": [
       "3"
      ]
     },
     "execution_count": 3,
     "metadata": {},
     "output_type": "execute_result"
    }
   ],
   "source": [
    "len(embedings)"
   ]
  },
  {
   "cell_type": "code",
   "execution_count": 4,
   "id": "96a5a244",
   "metadata": {},
   "outputs": [
    {
     "data": {
      "text/plain": [
       "[-0.01501031219959259,\n",
       " 0.0037556844763457775,\n",
       " 0.010804194025695324,\n",
       " -0.018588928505778313,\n",
       " -0.00455403933301568,\n",
       " 0.0025472796987742186,\n",
       " 0.0050790272653102875,\n",
       " -0.02596982754766941,\n",
       " 0.004637912847101688,\n",
       " -0.023248586803674698]"
      ]
     },
     "execution_count": 4,
     "metadata": {},
     "output_type": "execute_result"
    }
   ],
   "source": [
    "embedings[0][:10]"
   ]
  },
  {
   "cell_type": "code",
   "execution_count": 5,
   "id": "7a60d2dc",
   "metadata": {},
   "outputs": [
    {
     "data": {
      "text/plain": [
       "1536"
      ]
     },
     "execution_count": 5,
     "metadata": {},
     "output_type": "execute_result"
    }
   ],
   "source": [
    "len(embedings[0])"
   ]
  },
  {
   "cell_type": "code",
   "execution_count": 6,
   "id": "1e4c4f9e",
   "metadata": {},
   "outputs": [
    {
     "data": {
      "text/plain": [
       "1536"
      ]
     },
     "execution_count": 6,
     "metadata": {},
     "output_type": "execute_result"
    }
   ],
   "source": [
    "len(embedings[1])"
   ]
  },
  {
   "cell_type": "code",
   "execution_count": 7,
   "id": "74263176",
   "metadata": {},
   "outputs": [
    {
     "data": {
      "text/plain": [
       "1536"
      ]
     },
     "execution_count": 7,
     "metadata": {},
     "output_type": "execute_result"
    }
   ],
   "source": [
    "len(embedings[2])"
   ]
  },
  {
   "cell_type": "code",
   "execution_count": 8,
   "id": "f8685d00",
   "metadata": {},
   "outputs": [
    {
     "name": "stdout",
     "output_type": "stream",
     "text": [
      "1536 0.2342006266117096 -0.6517059803009033\n",
      "1536 0.23287081718444824 -0.654877245426178\n",
      "1536 0.23204080760478973 -0.6500335335731506\n"
     ]
    }
   ],
   "source": [
    "for emb in embedings:\n",
    "    print(len(emb), max(emb), min(emb))"
   ]
  },
  {
   "cell_type": "code",
   "execution_count": 9,
   "id": "c223c440",
   "metadata": {},
   "outputs": [
    {
     "data": {
      "text/plain": [
       "0.8764503254046829"
      ]
     },
     "execution_count": 9,
     "metadata": {},
     "output_type": "execute_result"
    }
   ],
   "source": [
    "import numpy as np\n",
    "\n",
    "np.dot(embedings[0], embedings[1])\n"
   ]
  },
  {
   "cell_type": "code",
   "execution_count": 10,
   "id": "f86f6a57",
   "metadata": {},
   "outputs": [
    {
     "data": {
      "text/plain": [
       "0.8028401878395041"
      ]
     },
     "execution_count": 10,
     "metadata": {},
     "output_type": "execute_result"
    }
   ],
   "source": [
    "import numpy as np\n",
    "\n",
    "np.dot(embedings[0], embedings[2])"
   ]
  },
  {
   "cell_type": "code",
   "execution_count": 11,
   "id": "12de8719",
   "metadata": {},
   "outputs": [
    {
     "data": {
      "text/plain": [
       "0.7974288660556949"
      ]
     },
     "execution_count": 11,
     "metadata": {},
     "output_type": "execute_result"
    }
   ],
   "source": [
    "import numpy as np\n",
    "\n",
    "np.dot(embedings[1], embedings[2])"
   ]
  },
  {
   "cell_type": "code",
   "execution_count": 12,
   "id": "681365b7",
   "metadata": {},
   "outputs": [
    {
     "name": "stdout",
     "output_type": "stream",
     "text": [
      "1.0 | 0.88 | 0.8 | \n",
      "0.88 | 1.0 | 0.8 | \n",
      "0.8 | 0.8 | 1.0 | \n"
     ]
    }
   ],
   "source": [
    "for i in range(len(embedings)):\n",
    "    for j in range(len(embedings)):\n",
    "        print(round(np.dot(embedings[i], embedings[j]), 2), end=' | ')\n",
    "    print()"
   ]
  },
  {
   "attachments": {},
   "cell_type": "markdown",
   "id": "c7302fad",
   "metadata": {},
   "source": [
    "### Embedding query"
   ]
  },
  {
   "cell_type": "code",
   "execution_count": 13,
   "id": "10f6ef1c",
   "metadata": {},
   "outputs": [
    {
     "data": {
      "text/plain": [
       "[0.0029943918343633413,\n",
       " -0.0013274765806272626,\n",
       " -0.010084359906613827,\n",
       " -0.0027218847535550594,\n",
       " -0.010670808143913746,\n",
       " 0.014406228438019753,\n",
       " 0.0025800534058362246,\n",
       " -0.005635002627968788,\n",
       " -0.005035805515944958,\n",
       " -0.002124281134456396]"
      ]
     },
     "execution_count": 13,
     "metadata": {},
     "output_type": "execute_result"
    }
   ],
   "source": [
    "pergunta = 'O que é um cachorro'\n",
    "emb_query = embedding_model.embed_query(pergunta)\n",
    "emb_query[:10]"
   ]
  },
  {
   "attachments": {},
   "cell_type": "markdown",
   "id": "e82ced4a",
   "metadata": {},
   "source": [
    "## Embedding com HuggingFace"
   ]
  },
  {
   "attachments": {},
   "cell_type": "markdown",
   "id": "ad11d8d7",
   "metadata": {},
   "source": [
    "https://huggingface.co/models?pipeline_tag=sentence-similarity&sort=trending"
   ]
  },
  {
   "cell_type": "code",
   "execution_count": 1,
   "id": "d73f5941",
   "metadata": {},
   "outputs": [
    {
     "name": "stderr",
     "output_type": "stream",
     "text": [
      "/home/adriano/Documentos/Asimov/asimov_academy/ensino/cursos/courses/Langchain/versao_2/pos_gravacao/scripts/.venv/lib/python3.13/site-packages/tqdm/auto.py:21: TqdmWarning: IProgress not found. Please update jupyter and ipywidgets. See https://ipywidgets.readthedocs.io/en/stable/user_install.html\n",
      "  from .autonotebook import tqdm as notebook_tqdm\n",
      "/home/adriano/Documentos/Asimov/asimov_academy/ensino/cursos/courses/Langchain/versao_2/pos_gravacao/scripts/.venv/lib/python3.13/site-packages/torch/cuda/__init__.py:129: UserWarning: CUDA initialization: CUDA unknown error - this may be due to an incorrectly set up environment, e.g. changing env variable CUDA_VISIBLE_DEVICES after program start. Setting the available devices to be zero. (Triggered internally at ../c10/cuda/CUDAFunctions.cpp:108.)\n",
      "  return torch._C._cuda_getDeviceCount() > 0\n"
     ]
    }
   ],
   "source": [
    "from langchain_huggingface.embeddings.huggingface import HuggingFaceEmbeddings  # Atualizando importação!\n",
    "\n",
    "model = 'all-MiniLM-L6-v2'\n",
    "embedding_model = HuggingFaceEmbeddings(model_name = model)  # Atualizando classe importada!"
   ]
  },
  {
   "cell_type": "code",
   "execution_count": 2,
   "id": "af3726eb",
   "metadata": {},
   "outputs": [],
   "source": [
    "embedings = embedding_model.embed_documents(\n",
    "    [\n",
    "        'Eu gosto de cochorros',\n",
    "        'Eu gosto de animais',\n",
    "        'O tempo está ruim lá fora'\n",
    "    ]\n",
    ")"
   ]
  },
  {
   "cell_type": "code",
   "execution_count": 3,
   "id": "38518b71",
   "metadata": {},
   "outputs": [
    {
     "name": "stdout",
     "output_type": "stream",
     "text": [
      "1.0 | 0.69 | 0.38 | \n",
      "0.69 | 1.0 | 0.49 | \n",
      "0.38 | 0.49 | 1.0 | \n"
     ]
    }
   ],
   "source": [
    "import numpy as np\n",
    "\n",
    "for i in range(len(embedings)):\n",
    "    for j in range(len(embedings)):\n",
    "        print(round(np.dot(embedings[i], embedings[j]), 2), end=' | ')\n",
    "    print()"
   ]
  },
  {
   "cell_type": "code",
   "execution_count": 4,
   "id": "cfd4c390",
   "metadata": {},
   "outputs": [
    {
     "name": "stdout",
     "output_type": "stream",
     "text": [
      "384 0.1370515525341034 -0.13979804515838623\n",
      "384 0.12528777122497559 -0.1534135490655899\n",
      "384 0.12505868077278137 -0.13441646099090576\n"
     ]
    }
   ],
   "source": [
    "for emb in embedings:\n",
    "    print(len(emb), max(emb), min(emb))"
   ]
  },
  {
   "cell_type": "code",
   "execution_count": null,
   "id": "0db7d9d4",
   "metadata": {},
   "outputs": [],
   "source": []
  }
 ],
 "metadata": {
  "kernelspec": {
   "display_name": ".venv",
   "language": "python",
   "name": "python3"
  },
  "language_info": {
   "codemirror_mode": {
    "name": "ipython",
    "version": 3
   },
   "file_extension": ".py",
   "mimetype": "text/x-python",
   "name": "python",
   "nbconvert_exporter": "python",
   "pygments_lexer": "ipython3",
   "version": "3.13.0"
  }
 },
 "nbformat": 4,
 "nbformat_minor": 5
}
